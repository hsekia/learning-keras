{
 "cells": [
  {
   "cell_type": "code",
   "execution_count": 1,
   "metadata": {},
   "outputs": [
    {
     "name": "stderr",
     "output_type": "stream",
     "text": [
      "Using TensorFlow backend.\n"
     ]
    },
    {
     "name": "stdout",
     "output_type": "stream",
     "text": [
      "Downloading data from https://s3.amazonaws.com/text-datasets/reuters.npz\n",
      "2113536/2110848 [==============================] - 17s 8us/step\n"
     ]
    }
   ],
   "source": [
    "\"\"\"\n",
    "The first step to Keras\n",
    "\n",
    "This is modified version of the tutorial code in the Book \"Deep Learning with Python\"\n",
    "Copyright 2017 by Manning Publications, Co.\n",
    "https://github.com/fchollet/deep-learning-with-python-notebooks\n",
    "Copyright: Copyright (c) 2017 François Chollet\n",
    "\"\"\"\n",
    "from keras.datasets import reuters\n",
    "\n",
    "(train_data, train_labels), (test_data, test_labels) = reuters.load_data(num_words=10000)\n"
   ]
  },
  {
   "cell_type": "code",
   "execution_count": 5,
   "metadata": {},
   "outputs": [
    {
     "data": {
      "text/plain": [
       "8982"
      ]
     },
     "execution_count": 5,
     "metadata": {},
     "output_type": "execute_result"
    }
   ],
   "source": [
    "len(train_data)"
   ]
  },
  {
   "cell_type": "code",
   "execution_count": 7,
   "metadata": {},
   "outputs": [
    {
     "data": {
      "text/plain": [
       "2246"
      ]
     },
     "execution_count": 7,
     "metadata": {},
     "output_type": "execute_result"
    }
   ],
   "source": [
    "len(test_data)"
   ]
  },
  {
   "cell_type": "code",
   "execution_count": 8,
   "metadata": {},
   "outputs": [
    {
     "data": {
      "text/plain": [
       "[1,\n",
       " 245,\n",
       " 273,\n",
       " 207,\n",
       " 156,\n",
       " 53,\n",
       " 74,\n",
       " 160,\n",
       " 26,\n",
       " 14,\n",
       " 46,\n",
       " 296,\n",
       " 26,\n",
       " 39,\n",
       " 74,\n",
       " 2979,\n",
       " 3554,\n",
       " 14,\n",
       " 46,\n",
       " 4689,\n",
       " 4329,\n",
       " 86,\n",
       " 61,\n",
       " 3499,\n",
       " 4795,\n",
       " 14,\n",
       " 61,\n",
       " 451,\n",
       " 4329,\n",
       " 17,\n",
       " 12]"
      ]
     },
     "execution_count": 8,
     "metadata": {},
     "output_type": "execute_result"
    }
   ],
   "source": [
    "train_data[10]"
   ]
  },
  {
   "cell_type": "code",
   "execution_count": 9,
   "metadata": {},
   "outputs": [
    {
     "name": "stdout",
     "output_type": "stream",
     "text": [
      "Downloading data from https://s3.amazonaws.com/text-datasets/reuters_word_index.json\n",
      "557056/550378 [==============================] - 3s 6us/step\n"
     ]
    },
    {
     "data": {
      "text/plain": [
       "'? ? ? said as a result of its december acquisition of space co it expects earnings per share in 1987 of 1 15 to 1 30 dlrs per share up from 70 cts in 1986 the company said pretax net should rise to nine to 10 mln dlrs from six mln dlrs in 1986 and rental operation revenues to 19 to 22 mln dlrs from 12 5 mln dlrs it said cash flow per share this year should be 2 50 to three dlrs reuter 3'"
      ]
     },
     "execution_count": 9,
     "metadata": {},
     "output_type": "execute_result"
    }
   ],
   "source": [
    "## convert news sample to text\n",
    "word_index = reuters.get_word_index()\n",
    "reverse_word_index = dict([(value, key) for (key, value) in word_index.items()])\n",
    "decoded_newswire = ' '.join(\n",
    "    [reverse_word_index.get(i - 3, '?') for i in train_data[0]])\n",
    "decoded_newswire"
   ]
  },
  {
   "cell_type": "code",
   "execution_count": 11,
   "metadata": {},
   "outputs": [],
   "source": [
    "import numpy as np\n",
    "\n",
    "def vectorize_sequences(sequences, dimension=10000):\n",
    "    # Create an all-zero matrix of shape (len(sequences), dimension)\n",
    "    results = np.zeros((len(sequences), dimension), dtype='uint16')\n",
    "    for i, sequence in enumerate(sequences):\n",
    "        results[i, sequence] = 1.  # set specific indices of results[i] to 1s\n",
    "    return results\n",
    "\n",
    "x_train = vectorize_sequences(train_data)\n",
    "x_test = vectorize_sequences(test_data)"
   ]
  },
  {
   "cell_type": "code",
   "execution_count": 15,
   "metadata": {},
   "outputs": [],
   "source": [
    "from keras.utils.np_utils import to_categorical\n",
    "\n",
    "one_hot_train_labels = to_categorical(train_labels)\n",
    "one_hot_test_labels = to_categorical(test_labels)"
   ]
  },
  {
   "cell_type": "code",
   "execution_count": 17,
   "metadata": {},
   "outputs": [
    {
     "data": {
      "text/plain": [
       "array([0., 0., 0., 1., 0., 0., 0., 0., 0., 0., 0., 0., 0., 0., 0., 0., 0.,\n",
       "       0., 0., 0., 0., 0., 0., 0., 0., 0., 0., 0., 0., 0., 0., 0., 0., 0.,\n",
       "       0., 0., 0., 0., 0., 0., 0., 0., 0., 0., 0., 0.], dtype=float32)"
      ]
     },
     "execution_count": 17,
     "metadata": {},
     "output_type": "execute_result"
    }
   ],
   "source": [
    "one_hot_train_labels[10]"
   ]
  },
  {
   "cell_type": "code",
   "execution_count": 18,
   "metadata": {},
   "outputs": [],
   "source": [
    "## define the model\n",
    "from keras import models\n",
    "from keras import layers\n",
    "\n",
    "model = models.Sequential()\n",
    "model.add(layers.Dense(64, activation='relu', input_shape=(10000,)))\n",
    "model.add(layers.Dense(64, activation='relu'))\n",
    "model.add(layers.Dense(46, activation='softmax'))\n",
    "\n",
    "# compile the model\n",
    "model.compile(optimizer='rmsprop',\n",
    "              loss='categorical_crossentropy',\n",
    "              metrics=['accuracy']\n",
    ")"
   ]
  },
  {
   "cell_type": "code",
   "execution_count": 23,
   "metadata": {},
   "outputs": [],
   "source": [
    "x_val = x_train[:1000]\n",
    "partial_x_train = x_train[1000:]\n",
    "\n",
    "y_val = one_hot_train_labels[:1000]\n",
    "partial_y_train = one_hot_train_labels[1000:]"
   ]
  },
  {
   "cell_type": "code",
   "execution_count": 24,
   "metadata": {},
   "outputs": [
    {
     "name": "stdout",
     "output_type": "stream",
     "text": [
      "Train on 7982 samples, validate on 1000 samples\n",
      "Epoch 1/20\n",
      "7982/7982 [==============================] - 6s 742us/step - loss: 2.5288 - acc: 0.4965 - val_loss: 1.7252 - val_acc: 0.6120\n",
      "Epoch 2/20\n",
      "7982/7982 [==============================] - 3s 385us/step - loss: 1.4507 - acc: 0.6878 - val_loss: 1.3507 - val_acc: 0.7080\n",
      "Epoch 3/20\n",
      "7982/7982 [==============================] - 3s 424us/step - loss: 1.1011 - acc: 0.7638 - val_loss: 1.1730 - val_acc: 0.7410\n",
      "Epoch 4/20\n",
      "7982/7982 [==============================] - 3s 355us/step - loss: 0.8737 - acc: 0.8150 - val_loss: 1.0861 - val_acc: 0.7550\n",
      "Epoch 5/20\n",
      "7982/7982 [==============================] - 3s 356us/step - loss: 0.7064 - acc: 0.8472 - val_loss: 0.9859 - val_acc: 0.7810\n",
      "Epoch 6/20\n",
      "7982/7982 [==============================] - 2s 311us/step - loss: 0.5690 - acc: 0.8789 - val_loss: 0.9435 - val_acc: 0.8010\n",
      "Epoch 7/20\n",
      "7982/7982 [==============================] - 3s 369us/step - loss: 0.4619 - acc: 0.9035 - val_loss: 0.9114 - val_acc: 0.8040\n",
      "Epoch 8/20\n",
      "7982/7982 [==============================] - 3s 350us/step - loss: 0.3734 - acc: 0.9218 - val_loss: 0.9383 - val_acc: 0.7890\n",
      "Epoch 9/20\n",
      "7982/7982 [==============================] - 3s 368us/step - loss: 0.3065 - acc: 0.9310 - val_loss: 0.8929 - val_acc: 0.8050\n",
      "Epoch 10/20\n",
      "7982/7982 [==============================] - 2s 266us/step - loss: 0.2565 - acc: 0.9411 - val_loss: 0.9093 - val_acc: 0.8120\n",
      "Epoch 11/20\n",
      "7982/7982 [==============================] - 3s 365us/step - loss: 0.2212 - acc: 0.9471 - val_loss: 0.9211 - val_acc: 0.8080\n",
      "Epoch 12/20\n",
      "7982/7982 [==============================] - 3s 335us/step - loss: 0.1899 - acc: 0.9506 - val_loss: 0.9079 - val_acc: 0.8130\n",
      "Epoch 13/20\n",
      "7982/7982 [==============================] - 3s 330us/step - loss: 0.1722 - acc: 0.9531 - val_loss: 0.9383 - val_acc: 0.8070\n",
      "Epoch 14/20\n",
      "7982/7982 [==============================] - 2s 275us/step - loss: 0.1556 - acc: 0.9555 - val_loss: 0.9707 - val_acc: 0.8060\n",
      "Epoch 15/20\n",
      "7982/7982 [==============================] - 2s 261us/step - loss: 0.1409 - acc: 0.9555 - val_loss: 0.9722 - val_acc: 0.8150\n",
      "Epoch 16/20\n",
      "7982/7982 [==============================] - 2s 254us/step - loss: 0.1327 - acc: 0.9555 - val_loss: 1.0320 - val_acc: 0.8040\n",
      "Epoch 17/20\n",
      "7982/7982 [==============================] - 2s 265us/step - loss: 0.1235 - acc: 0.9579 - val_loss: 1.0290 - val_acc: 0.7940\n",
      "Epoch 18/20\n",
      "7982/7982 [==============================] - 2s 211us/step - loss: 0.1210 - acc: 0.9578 - val_loss: 1.0458 - val_acc: 0.8060\n",
      "Epoch 19/20\n",
      "7982/7982 [==============================] - 2s 196us/step - loss: 0.1154 - acc: 0.9589 - val_loss: 1.1099 - val_acc: 0.7950\n",
      "Epoch 20/20\n",
      "7982/7982 [==============================] - 2s 191us/step - loss: 0.1131 - acc: 0.9600 - val_loss: 1.0838 - val_acc: 0.7990\n"
     ]
    }
   ],
   "source": [
    "## train the model\n",
    "\n",
    "history = model.fit(partial_x_train,\n",
    "                    partial_y_train,\n",
    "                    epochs=20,\n",
    "                    batch_size=512,\n",
    "                    validation_data=(x_val, y_val)\n",
    ")"
   ]
  },
  {
   "cell_type": "code",
   "execution_count": 26,
   "metadata": {},
   "outputs": [
    {
     "data": {
      "image/png": "[encoded data removed]",
      "text/plain": [
       "<Figure size 432x288 with 1 Axes>"
      ]
     },
     "metadata": {},
     "output_type": "display_data"
    }
   ],
   "source": [
    "import matplotlib.pyplot as plt\n",
    "\n",
    "loss = history.history['loss']\n",
    "val_loss = history.history['val_loss']\n",
    "\n",
    "epochs = range(1, len(loss) + 1)\n",
    "\n",
    "plt.plot(epochs, loss, 'bo', label='Training loss')\n",
    "plt.plot(epochs, val_loss, 'b', label='Validation loss')\n",
    "plt.title('Training and validation loss')\n",
    "plt.xlabel('Epochs')\n",
    "plt.ylabel('Loss')\n",
    "plt.legend()\n",
    "plt.show()"
   ]
  },
  {
   "cell_type": "code",
   "execution_count": 27,
   "metadata": {},
   "outputs": [
    {
     "data": {
      "image/png": "[encoded data removed]",
      "text/plain": [
       "<Figure size 432x288 with 1 Axes>"
      ]
     },
     "metadata": {},
     "output_type": "display_data"
    }
   ],
   "source": [
    "plt.clf()\n",
    "\n",
    "accs = history.history['acc']\n",
    "val_accs = history.history['val_acc']\n",
    "\n",
    "plt.plot(epochs, accs, 'bo', label='Training acc')\n",
    "plt.plot(epochs, val_accs, 'b', label='Validation acc')\n",
    "plt.title('Training and validation accuracy')\n",
    "plt.xlabel('Epochs')\n",
    "plt.ylabel('Accuracy')\n",
    "plt.legend()\n",
    "plt.show()"
   ]
  },
  {
   "cell_type": "code",
   "execution_count": 28,
   "metadata": {},
   "outputs": [
    {
     "name": "stdout",
     "output_type": "stream",
     "text": [
      "Train on 7982 samples, validate on 1000 samples\n",
      "Epoch 1/8\n",
      "7982/7982 [==============================] - 4s 492us/step - loss: 2.5313 - acc: 0.5242 - val_loss: 1.6846 - val_acc: 0.6530\n",
      "Epoch 2/8\n",
      "7982/7982 [==============================] - 2s 306us/step - loss: 1.3753 - acc: 0.7135 - val_loss: 1.2791 - val_acc: 0.7210\n",
      "Epoch 3/8\n",
      "7982/7982 [==============================] - 3s 317us/step - loss: 1.0163 - acc: 0.7799 - val_loss: 1.1372 - val_acc: 0.7470\n",
      "Epoch 4/8\n",
      "7982/7982 [==============================] - 3s 320us/step - loss: 0.8017 - acc: 0.8256 - val_loss: 1.0587 - val_acc: 0.7570\n",
      "Epoch 5/8\n",
      "7982/7982 [==============================] - 3s 376us/step - loss: 0.6446 - acc: 0.8619 - val_loss: 0.9797 - val_acc: 0.7950\n",
      "Epoch 6/8\n",
      "7982/7982 [==============================] - 3s 318us/step - loss: 0.5176 - acc: 0.8908 - val_loss: 0.9136 - val_acc: 0.8110\n",
      "Epoch 7/8\n",
      "7982/7982 [==============================] - 3s 352us/step - loss: 0.4182 - acc: 0.9132 - val_loss: 0.8971 - val_acc: 0.8200\n",
      "Epoch 8/8\n",
      "7982/7982 [==============================] - 3s 367us/step - loss: 0.3400 - acc: 0.9273 - val_loss: 0.8756 - val_acc: 0.8250\n",
      "2246/2246 [==============================] - 1s 329us/step\n"
     ]
    }
   ],
   "source": [
    "##  test 2\n",
    "##  change epochs from 20 to 8\n",
    "model = models.Sequential()\n",
    "model.add(layers.Dense(64, activation='relu', input_shape=(10000,)))\n",
    "model.add(layers.Dense(64, activation='relu'))\n",
    "model.add(layers.Dense(46, activation='softmax'))\n",
    "\n",
    "# compile the model\n",
    "model.compile(optimizer='rmsprop',\n",
    "              loss='categorical_crossentropy',\n",
    "              metrics=['accuracy']\n",
    ")\n",
    "# train the model\n",
    "history = model.fit(partial_x_train,\n",
    "                    partial_y_train,\n",
    "                    epochs=8,    # change epochs 20 to 8\n",
    "                    batch_size=512,\n",
    "                    validation_data=(x_val, y_val)\n",
    ")\n",
    "results = model.evaluate(x_test, one_hot_test_labels)"
   ]
  },
  {
   "cell_type": "code",
   "execution_count": 30,
   "metadata": {},
   "outputs": [
    {
     "data": {
      "image/png": "[encoded data removed]",
      "text/plain": [
       "<Figure size 432x288 with 1 Axes>"
      ]
     },
     "metadata": {},
     "output_type": "display_data"
    }
   ],
   "source": [
    "import matplotlib.pyplot as plt\n",
    "\n",
    "loss = history.history['loss']\n",
    "val_loss = history.history['val_loss']\n",
    "\n",
    "epochs = range(1, len(loss) + 1)\n",
    "\n",
    "plt.plot(epochs, loss, 'bo', label='Training loss')\n",
    "plt.plot(epochs, val_loss, 'b', label='Validation loss')\n",
    "plt.title('Training and validation loss')\n",
    "plt.xlabel('Epochs')\n",
    "plt.ylabel('Loss')\n",
    "plt.legend()\n",
    "plt.show()"
   ]
  },
  {
   "cell_type": "code",
   "execution_count": 31,
   "metadata": {
    "collapsed": true
   },
   "outputs": [
    {
     "name": "stdout",
     "output_type": "stream",
     "text": [
      "Train on 7982 samples, validate on 1000 samples\n",
      "Epoch 1/20\n",
      "7982/7982 [==============================] - 4s 529us/step - loss: 2.4626 - acc: 0.5481 - val_loss: 1.6050 - val_acc: 0.6600\n",
      "Epoch 2/20\n",
      "7982/7982 [==============================] - 3s 323us/step - loss: 1.3226 - acc: 0.7211 - val_loss: 1.2872 - val_acc: 0.7060\n",
      "Epoch 3/20\n",
      "7982/7982 [==============================] - 2s 240us/step - loss: 0.9959 - acc: 0.7894 - val_loss: 1.0818 - val_acc: 0.7720\n",
      "Epoch 4/20\n",
      "7982/7982 [==============================] - 3s 329us/step - loss: 0.7779 - acc: 0.8355 - val_loss: 0.9884 - val_acc: 0.7980\n",
      "Epoch 5/20\n",
      "7982/7982 [==============================] - 3s 325us/step - loss: 0.6142 - acc: 0.8697 - val_loss: 0.9303 - val_acc: 0.8130\n",
      "Epoch 6/20\n",
      "7982/7982 [==============================] - 3s 336us/step - loss: 0.4779 - acc: 0.8995 - val_loss: 0.9403 - val_acc: 0.8110\n",
      "Epoch 7/20\n",
      "7982/7982 [==============================] - 2s 277us/step - loss: 0.3791 - acc: 0.9194 - val_loss: 0.8781 - val_acc: 0.8190\n",
      "Epoch 8/20\n",
      "7982/7982 [==============================] - 2s 257us/step - loss: 0.3065 - acc: 0.9346 - val_loss: 0.9277 - val_acc: 0.8120\n",
      "Epoch 9/20\n",
      "7982/7982 [==============================] - 2s 225us/step - loss: 0.2539 - acc: 0.9430 - val_loss: 0.8859 - val_acc: 0.8200\n",
      "Epoch 10/20\n",
      "7982/7982 [==============================] - 2s 240us/step - loss: 0.2128 - acc: 0.9471 - val_loss: 0.9138 - val_acc: 0.8170\n",
      "Epoch 11/20\n",
      "7982/7982 [==============================] - 2s 206us/step - loss: 0.1865 - acc: 0.9513 - val_loss: 0.9447 - val_acc: 0.8170\n",
      "Epoch 12/20\n",
      "7982/7982 [==============================] - 2s 208us/step - loss: 0.1656 - acc: 0.9538 - val_loss: 0.9238 - val_acc: 0.8160\n",
      "Epoch 13/20\n",
      "7982/7982 [==============================] - 2s 311us/step - loss: 0.1536 - acc: 0.9529 - val_loss: 0.9724 - val_acc: 0.8150\n",
      "Epoch 14/20\n",
      "7982/7982 [==============================] - 3s 325us/step - loss: 0.1427 - acc: 0.9557 - val_loss: 0.9919 - val_acc: 0.8140\n",
      "Epoch 15/20\n",
      "7982/7982 [==============================] - 3s 327us/step - loss: 0.1333 - acc: 0.9570 - val_loss: 0.9992 - val_acc: 0.8100\n",
      "Epoch 16/20\n",
      "7982/7982 [==============================] - 3s 315us/step - loss: 0.1274 - acc: 0.9570 - val_loss: 1.0436 - val_acc: 0.8160\n",
      "Epoch 17/20\n",
      "7982/7982 [==============================] - 3s 333us/step - loss: 0.1201 - acc: 0.9577 - val_loss: 1.0540 - val_acc: 0.8060\n",
      "Epoch 18/20\n",
      "7982/7982 [==============================] - 2s 279us/step - loss: 0.1159 - acc: 0.9582 - val_loss: 1.1182 - val_acc: 0.7890\n",
      "Epoch 19/20\n",
      "7982/7982 [==============================] - 2s 282us/step - loss: 0.1148 - acc: 0.9563 - val_loss: 1.1569 - val_acc: 0.7940\n",
      "Epoch 20/20\n",
      "7982/7982 [==============================] - 2s 279us/step - loss: 0.1119 - acc: 0.9579 - val_loss: 1.1055 - val_acc: 0.7920\n",
      "2246/2246 [==============================] - 1s 346us/step\n"
     ]
    },
    {
     "data": {
      "text/plain": [
       "[1.2048019322559225, 0.790293855743544]"
      ]
     },
     "execution_count": 31,
     "metadata": {},
     "output_type": "execute_result"
    }
   ],
   "source": [
    "##  test 3\n",
    "##  change units from 64 to 128\n",
    "model = models.Sequential()\n",
    "model.add(layers.Dense(64, activation='relu', input_shape=(10000,)))\n",
    "model.add(layers.Dense(128, activation='relu'))\n",
    "model.add(layers.Dense(46, activation='softmax'))\n",
    "\n",
    "# compile the model\n",
    "model.compile(optimizer='rmsprop',\n",
    "              loss='categorical_crossentropy',\n",
    "              metrics=['accuracy']\n",
    ")\n",
    "# train the model\n",
    "history = model.fit(partial_x_train,\n",
    "                    partial_y_train,\n",
    "                    epochs=20,\n",
    "                    batch_size=512,\n",
    "                    validation_data=(x_val, y_val)\n",
    ")\n",
    "results = model.evaluate(x_test, one_hot_test_labels)\n",
    "results"
   ]
  },
  {
   "cell_type": "code",
   "execution_count": 32,
   "metadata": {
    "scrolled": true
   },
   "outputs": [
    {
     "data": {
      "image/png": "[encoded data removed]",
      "text/plain": [
       "<Figure size 432x288 with 1 Axes>"
      ]
     },
     "metadata": {},
     "output_type": "display_data"
    }
   ],
   "source": [
    "loss = history.history['loss']\n",
    "val_loss = history.history['val_loss']\n",
    "\n",
    "epochs = range(1, len(loss) + 1)\n",
    "\n",
    "plt.plot(epochs, loss, 'bo', label='Training loss')\n",
    "plt.plot(epochs, val_loss, 'b', label='Validation loss')\n",
    "plt.title('Training and validation loss')\n",
    "plt.xlabel('Epochs')\n",
    "plt.ylabel('Loss')\n",
    "plt.legend()\n",
    "plt.show()"
   ]
  },
  {
   "cell_type": "code",
   "execution_count": 34,
   "metadata": {
    "scrolled": true
   },
   "outputs": [
    {
     "data": {
      "image/png": "[encoded data removed]",
      "text/plain": [
       "<Figure size 432x288 with 1 Axes>"
      ]
     },
     "metadata": {},
     "output_type": "display_data"
    }
   ],
   "source": [
    "plt.clf()\n",
    "\n",
    "accs = history.history['acc']\n",
    "val_accs = history.history['val_acc']\n",
    "\n",
    "plt.plot(epochs, accs, 'bo', label='Training acc')\n",
    "plt.plot(epochs, val_accs, 'b', label='Validation acc')\n",
    "plt.title('Training and validation accuracy')\n",
    "plt.xlabel('Epochs')\n",
    "plt.ylabel('Accuracy')\n",
    "plt.legend()\n",
    "plt.show()"
   ]
  },
  {
   "cell_type": "code",
   "execution_count": 35,
   "metadata": {
    "scrolled": true
   },
   "outputs": [
    {
     "name": "stdout",
     "output_type": "stream",
     "text": [
      "Train on 7982 samples, validate on 1000 samples\n",
      "Epoch 1/20\n",
      "7982/7982 [==============================] - 4s 474us/step - loss: 2.5307 - acc: 0.4640 - val_loss: 1.6680 - val_acc: 0.6040\n",
      "Epoch 2/20\n",
      "7982/7982 [==============================] - 3s 324us/step - loss: 1.4055 - acc: 0.6938 - val_loss: 1.2988 - val_acc: 0.7110\n",
      "Epoch 3/20\n",
      "7982/7982 [==============================] - 2s 267us/step - loss: 1.0792 - acc: 0.7635 - val_loss: 1.1419 - val_acc: 0.7540\n",
      "Epoch 4/20\n",
      "7982/7982 [==============================] - 2s 242us/step - loss: 0.8457 - acc: 0.8165 - val_loss: 1.0453 - val_acc: 0.7840\n",
      "Epoch 5/20\n",
      "7982/7982 [==============================] - 2s 247us/step - loss: 0.6732 - acc: 0.8509 - val_loss: 1.0148 - val_acc: 0.7840\n",
      "Epoch 6/20\n",
      "7982/7982 [==============================] - 2s 248us/step - loss: 0.5314 - acc: 0.8849 - val_loss: 0.9635 - val_acc: 0.8050\n",
      "Epoch 7/20\n",
      "7982/7982 [==============================] - 2s 284us/step - loss: 0.4231 - acc: 0.9080 - val_loss: 0.9457 - val_acc: 0.8010\n",
      "Epoch 8/20\n",
      "7982/7982 [==============================] - 2s 228us/step - loss: 0.3470 - acc: 0.9232 - val_loss: 1.0546 - val_acc: 0.7710\n",
      "Epoch 9/20\n",
      "7982/7982 [==============================] - 2s 249us/step - loss: 0.2937 - acc: 0.9384 - val_loss: 0.9945 - val_acc: 0.7950\n",
      "Epoch 10/20\n",
      "7982/7982 [==============================] - 2s 229us/step - loss: 0.2443 - acc: 0.9427 - val_loss: 0.9657 - val_acc: 0.8090\n",
      "Epoch 11/20\n",
      "7982/7982 [==============================] - 2s 223us/step - loss: 0.2145 - acc: 0.9481 - val_loss: 1.0094 - val_acc: 0.8110\n",
      "Epoch 12/20\n",
      "7982/7982 [==============================] - 2s 235us/step - loss: 0.1865 - acc: 0.9531 - val_loss: 1.0098 - val_acc: 0.8000\n",
      "Epoch 13/20\n",
      "7982/7982 [==============================] - 2s 228us/step - loss: 0.1687 - acc: 0.9538 - val_loss: 1.2633 - val_acc: 0.7630\n",
      "Epoch 14/20\n",
      "7982/7982 [==============================] - 2s 243us/step - loss: 0.1655 - acc: 0.9564 - val_loss: 1.0795 - val_acc: 0.7920\n",
      "Epoch 15/20\n",
      "7982/7982 [==============================] - 2s 230us/step - loss: 0.1473 - acc: 0.9568 - val_loss: 1.1315 - val_acc: 0.7900\n",
      "Epoch 16/20\n",
      "7982/7982 [==============================] - 2s 240us/step - loss: 0.1460 - acc: 0.9548 - val_loss: 1.1332 - val_acc: 0.7950\n",
      "Epoch 17/20\n",
      "7982/7982 [==============================] - 2s 215us/step - loss: 0.1396 - acc: 0.9568 - val_loss: 1.1487 - val_acc: 0.7940\n",
      "Epoch 18/20\n",
      "7982/7982 [==============================] - 2s 244us/step - loss: 0.1329 - acc: 0.9587 - val_loss: 1.3134 - val_acc: 0.7700\n",
      "Epoch 19/20\n",
      "7982/7982 [==============================] - 2s 211us/step - loss: 0.1221 - acc: 0.9595 - val_loss: 1.1560 - val_acc: 0.7990\n",
      "Epoch 20/20\n",
      "7982/7982 [==============================] - 2s 196us/step - loss: 0.1292 - acc: 0.9584 - val_loss: 1.3363 - val_acc: 0.7730\n",
      "2246/2246 [==============================] - 0s 187us/step\n"
     ]
    },
    {
     "data": {
      "text/plain": [
       "[1.4303253834946072, 0.7551202137663443]"
      ]
     },
     "execution_count": 35,
     "metadata": {},
     "output_type": "execute_result"
    }
   ],
   "source": [
    "##  test 4\n",
    "##  change hidden layers from 1 to 2\n",
    "model = models.Sequential()\n",
    "model.add(layers.Dense(64, activation='relu', input_shape=(10000,)))\n",
    "model.add(layers.Dense(64, activation='relu'))\n",
    "model.add(layers.Dense(64, activation='relu'))\n",
    "model.add(layers.Dense(46, activation='softmax'))\n",
    "\n",
    "# compile the model\n",
    "model.compile(optimizer='rmsprop',\n",
    "              loss='categorical_crossentropy',\n",
    "              metrics=['accuracy']\n",
    ")\n",
    "# train the model\n",
    "history = model.fit(partial_x_train,\n",
    "                    partial_y_train,\n",
    "                    epochs=20,\n",
    "                    batch_size=512,\n",
    "                    validation_data=(x_val, y_val)\n",
    ")\n",
    "results = model.evaluate(x_test, one_hot_test_labels)\n",
    "results"
   ]
  },
  {
   "cell_type": "code",
   "execution_count": 36,
   "metadata": {
    "scrolled": true
   },
   "outputs": [
    {
     "data": {
      "image/png": "[encoded data removed]",
      "text/plain": [
       "<Figure size 432x288 with 1 Axes>"
      ]
     },
     "metadata": {},
     "output_type": "display_data"
    }
   ],
   "source": [
    "loss = history.history['loss']\n",
    "val_loss = history.history['val_loss']\n",
    "\n",
    "epochs = range(1, len(loss) + 1)\n",
    "\n",
    "plt.plot(epochs, loss, 'bo', label='Training loss')\n",
    "plt.plot(epochs, val_loss, 'b', label='Validation loss')\n",
    "plt.title('Training and validation loss')\n",
    "plt.xlabel('Epochs')\n",
    "plt.ylabel('Loss')\n",
    "plt.legend()\n",
    "plt.show()"
   ]
  },
  {
   "cell_type": "code",
   "execution_count": 37,
   "metadata": {},
   "outputs": [
    {
     "data": {
      "image/png": "[encoded data removed]",
      "text/plain": [
       "<Figure size 432x288 with 1 Axes>"
      ]
     },
     "metadata": {},
     "output_type": "display_data"
    }
   ],
   "source": [
    "plt.clf()\n",
    "\n",
    "accs = history.history['acc']\n",
    "val_accs = history.history['val_acc']\n",
    "\n",
    "plt.plot(epochs, accs, 'bo', label='Training acc')\n",
    "plt.plot(epochs, val_accs, 'b', label='Validation acc')\n",
    "plt.title('Training and validation accuracy')\n",
    "plt.xlabel('Epochs')\n",
    "plt.ylabel('Accuracy')\n",
    "plt.legend()\n",
    "plt.show()"
   ]
  }
 ],
 "metadata": {
  "kernelspec": {
   "display_name": "Python 3",
   "language": "python",
   "name": "python3"
  },
  "language_info": {
   "codemirror_mode": {
    "name": "ipython",
    "version": 3
   },
   "file_extension": ".py",
   "mimetype": "text/x-python",
   "name": "python",
   "nbconvert_exporter": "python",
   "pygments_lexer": "ipython3",
   "version": "3.6.5"
  }
 },
 "nbformat": 4,
 "nbformat_minor": 2
}
