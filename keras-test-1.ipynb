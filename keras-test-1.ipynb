{
 "cells": [
  {
   "cell_type": "code",
   "execution_count": 1,
   "metadata": {},
   "outputs": [
    {
     "name": "stderr",
     "output_type": "stream",
     "text": [
      "Using TensorFlow backend.\n"
     ]
    },
    {
     "name": "stdout",
     "output_type": "stream",
     "text": [
      "shape=25000\n",
      "shape=25000\n"
     ]
    }
   ],
   "source": [
    "'''\n",
    "First step to Keras\n",
    "\n",
    "This is modified version of fchollet/deep-learning-with-python-notebooks\n",
    "Original copyright: Copyright (c) 2017 François Chollet\n",
    "https://github.com/fchollet/deep-learning-with-python-notebooks\n",
    "'''\n",
    "\n",
    "from keras.datasets import imdb\n",
    "\n",
    "import numpy as np\n",
    "\n",
    "def vectorize_sequences(sequences, dimension=10000):\n",
    "    # Create an all-zero matrix of shape (len(sequences), dimension)\n",
    "    print(\"shape=%s\" % sequences.shape)\n",
    "    results = np.zeros((len(sequences), dimension), dtype='uint16')\n",
    "    for i, sequence in enumerate(sequences):\n",
    "        results[i, sequence] = 1.  # set specific indices of results[i] to 1s\n",
    "    return results\n",
    "\n",
    "\n",
    "# load data\n",
    "(train_data, train_labels), (test_data, test_labels) = imdb.load_data(num_words=10000)\n",
    "\n",
    "# vectorize train data\n",
    "x_train = vectorize_sequences(train_data)\n",
    "\n",
    "# vectorize test data\n",
    "x_test = vectorize_sequences(test_data)\n",
    "\n",
    "# vectorize train label\n",
    "y_train = np.asarray(train_labels).astype('float32')\n",
    "\n",
    "# vectorize test label\n",
    "y_test = np.asarray(test_labels).astype('float32')\n"
   ]
  },
  {
   "cell_type": "code",
   "execution_count": 4,
   "metadata": {},
   "outputs": [
    {
     "data": {
      "text/plain": [
       "array([0, 1, 1, ..., 0, 0, 0], dtype=uint16)"
      ]
     },
     "execution_count": 4,
     "metadata": {},
     "output_type": "execute_result"
    }
   ],
   "source": [
    "x_train[0]"
   ]
  },
  {
   "cell_type": "code",
   "execution_count": 5,
   "metadata": {},
   "outputs": [
    {
     "data": {
      "text/plain": [
       "array([1., 0., 0., ..., 0., 1., 0.], dtype=float32)"
      ]
     },
     "execution_count": 5,
     "metadata": {},
     "output_type": "execute_result"
    }
   ],
   "source": [
    "y_train"
   ]
  },
  {
   "cell_type": "code",
   "execution_count": 7,
   "metadata": {},
   "outputs": [
    {
     "name": "stdout",
     "output_type": "stream",
     "text": [
      "Train on 15000 samples, validate on 10000 samples\n",
      "Epoch 1/20\n",
      "15000/15000 [==============================] - 11s 748us/step - loss: 0.5078 - acc: 0.7813 - val_loss: 0.3795 - val_acc: 0.8682\n",
      "Epoch 2/20\n",
      "15000/15000 [==============================] - 5s 329us/step - loss: 0.3004 - acc: 0.9044 - val_loss: 0.3002 - val_acc: 0.8902\n",
      "Epoch 3/20\n",
      "15000/15000 [==============================] - 4s 253us/step - loss: 0.2180 - acc: 0.9278 - val_loss: 0.3082 - val_acc: 0.8718\n",
      "Epoch 4/20\n",
      "15000/15000 [==============================] - 3s 222us/step - loss: 0.1753 - acc: 0.9437 - val_loss: 0.2836 - val_acc: 0.8843\n",
      "Epoch 5/20\n",
      "15000/15000 [==============================] - 3s 193us/step - loss: 0.1431 - acc: 0.9543 - val_loss: 0.2844 - val_acc: 0.8865\n",
      "Epoch 6/20\n",
      "15000/15000 [==============================] - 2s 164us/step - loss: 0.1156 - acc: 0.9649 - val_loss: 0.3136 - val_acc: 0.8776\n",
      "Epoch 7/20\n",
      "15000/15000 [==============================] - 3s 169us/step - loss: 0.0987 - acc: 0.9704 - val_loss: 0.3119 - val_acc: 0.8848\n",
      "Epoch 8/20\n",
      "15000/15000 [==============================] - 3s 189us/step - loss: 0.0815 - acc: 0.9758 - val_loss: 0.3840 - val_acc: 0.8657\n",
      "Epoch 9/20\n",
      "15000/15000 [==============================] - 3s 188us/step - loss: 0.0670 - acc: 0.9817 - val_loss: 0.3603 - val_acc: 0.8780\n",
      "Epoch 10/20\n",
      "15000/15000 [==============================] - 3s 195us/step - loss: 0.0564 - acc: 0.9852 - val_loss: 0.3820 - val_acc: 0.8793\n",
      "Epoch 11/20\n",
      "15000/15000 [==============================] - 3s 192us/step - loss: 0.0468 - acc: 0.9879 - val_loss: 0.4148 - val_acc: 0.8772\n",
      "Epoch 12/20\n",
      "15000/15000 [==============================] - 4s 295us/step - loss: 0.0395 - acc: 0.9911 - val_loss: 0.4469 - val_acc: 0.8699\n",
      "Epoch 13/20\n",
      "15000/15000 [==============================] - 3s 231us/step - loss: 0.0306 - acc: 0.9931 - val_loss: 0.4666 - val_acc: 0.8732\n",
      "Epoch 14/20\n",
      "15000/15000 [==============================] - 3s 205us/step - loss: 0.0251 - acc: 0.9947 - val_loss: 0.4987 - val_acc: 0.8721\n",
      "Epoch 15/20\n",
      "15000/15000 [==============================] - 3s 197us/step - loss: 0.0188 - acc: 0.9975 - val_loss: 0.5294 - val_acc: 0.8695\n",
      "Epoch 16/20\n",
      "15000/15000 [==============================] - 3s 205us/step - loss: 0.0170 - acc: 0.9973 - val_loss: 0.5665 - val_acc: 0.8695\n",
      "Epoch 17/20\n",
      "15000/15000 [==============================] - 3s 207us/step - loss: 0.0106 - acc: 0.9992 - val_loss: 0.6372 - val_acc: 0.8605\n",
      "Epoch 18/20\n",
      "15000/15000 [==============================] - 3s 190us/step - loss: 0.0126 - acc: 0.9974 - val_loss: 0.6368 - val_acc: 0.8676\n",
      "Epoch 19/20\n",
      "15000/15000 [==============================] - 3s 171us/step - loss: 0.0060 - acc: 0.9997 - val_loss: 0.7220 - val_acc: 0.8565\n",
      "Epoch 20/20\n",
      "15000/15000 [==============================] - 3s 177us/step - loss: 0.0106 - acc: 0.9974 - val_loss: 0.6956 - val_acc: 0.8672\n"
     ]
    }
   ],
   "source": [
    "from keras import models\n",
    "from keras import layers\n",
    "\n",
    "model = models.Sequential()\n",
    "model.add(layers.Dense(16, activation='relu', input_shape=(10000,)))\n",
    "model.add(layers.Dense(16, activation='relu'))\n",
    "model.add(layers.Dense(1, activation='sigmoid'))\n",
    "\n",
    "model.compile(optimizer='rmsprop',\n",
    "             loss='binary_crossentropy',\n",
    "             metrics=['accuracy'])\n",
    "\n",
    "x_val = x_train[:10000]\n",
    "partial_x_train = x_train[10000:]\n",
    "y_val = y_train[:10000]\n",
    "partial_y_train = y_train[10000:]\n",
    "\n",
    "history = model.fit(partial_x_train,\n",
    "                    partial_y_train,\n",
    "                    epochs=20,\n",
    "                    batch_size=512,\n",
    "                    validation_data=(x_val, y_val)\n",
    "                   )\n"
   ]
  },
  {
   "cell_type": "code",
   "execution_count": 8,
   "metadata": {},
   "outputs": [
    {
     "data": {
      "text/plain": [
       "dict_keys(['val_loss', 'val_acc', 'loss', 'acc'])"
      ]
     },
     "execution_count": 8,
     "metadata": {},
     "output_type": "execute_result"
    }
   ],
   "source": [
    "history_dict = history.history\n",
    "history_dict.keys()"
   ]
  },
  {
   "cell_type": "code",
   "execution_count": 11,
   "metadata": {
    "scrolled": true
   },
   "outputs": [
    {
     "data": {
      "image/png": "[encoded data removed]",
      "text/plain": [
       "<Figure size 432x288 with 1 Axes>"
      ]
     },
     "metadata": {},
     "output_type": "display_data"
    }
   ],
   "source": [
    "import matplotlib.pyplot as plt\n",
    "\n",
    "history_dict = history.history\n",
    "loss_values = history_dict['loss']\n",
    "val_loss_values = history_dict['val_loss']\n",
    "\n",
    "epochs = range(1, len(loss_values) + 1)\n",
    "\n",
    "# 'bo' means 'blue dot'\n",
    "plt.plot(epochs, loss_values, 'bo', label='Training loss')\n",
    "# 'b' means 'solid blue line'\n",
    "plt.plot(epochs, val_loss_values, 'b', label='Validation loss')\n",
    "plt.title('Training and validation loss')\n",
    "plt.xlabel('Epochs')\n",
    "plt.ylabel('Loss')\n",
    "plt.legend()\n",
    "plt.show()"
   ]
  },
  {
   "cell_type": "code",
   "execution_count": 14,
   "metadata": {},
   "outputs": [
    {
     "data": {
      "image/png": "[encoded data removed]",
      "text/plain": [
       "<Figure size 432x288 with 1 Axes>"
      ]
     },
     "metadata": {},
     "output_type": "display_data"
    }
   ],
   "source": [
    "# clear the image\n",
    "plt.clf()\n",
    "\n",
    "accs = history_dict['acc']\n",
    "val_accs = history_dict['val_acc']\n",
    "\n",
    "plt.plot(epochs, accs, 'bo', label='Training acc')\n",
    "plt.plot(epochs, val_accs, 'b', label='Validation acc')\n",
    "plt.title('Training and validation accuracy')\n",
    "plt.xlabel('Epochs')\n",
    "plt.ylabel('Accuracy')\n",
    "plt.legend()\n",
    "plt.show()"
   ]
  },
  {
   "cell_type": "code",
   "execution_count": 15,
   "metadata": {},
   "outputs": [
    {
     "name": "stdout",
     "output_type": "stream",
     "text": [
      "25000/25000 [==============================] - 6s 254us/step\n"
     ]
    },
    {
     "data": {
      "text/plain": [
       "[0.7706323717093467, 0.84988]"
      ]
     },
     "execution_count": 15,
     "metadata": {},
     "output_type": "execute_result"
    }
   ],
   "source": [
    "results = model.evaluate(x_test, y_test)\n",
    "results"
   ]
  }
 ],
 "metadata": {
  "kernelspec": {
   "display_name": "Python 3",
   "language": "python",
   "name": "python3"
  },
  "language_info": {
   "codemirror_mode": {
    "name": "ipython",
    "version": 3
   },
   "file_extension": ".py",
   "mimetype": "text/x-python",
   "name": "python",
   "nbconvert_exporter": "python",
   "pygments_lexer": "ipython3",
   "version": "3.6.5"
  }
 },
 "nbformat": 4,
 "nbformat_minor": 2
}
